{
 "cells": [
  {
   "cell_type": "code",
   "execution_count": 3,
   "metadata": {
    "scrolled": true
   },
   "outputs": [],
   "source": [
    "import os\n",
    "import numpy as np\n",
    "import tensorflow as tf\n",
    "from tensorflow import keras\n",
    "from tensorflow.keras.models import load_model\n",
    "\n",
    "# Get current working directory\n",
    "cwd = os.getcwd()\n",
    "\n",
    "# Load the saved model from disk\n",
    "model = cwd + '/bank-note-recognition-model.h5'\n",
    "reconstructed_model = load_model(model)\n",
    "\n",
    "# Set image height and width\n",
    "img_height = 150\n",
    "img_width = 150\n",
    "\n",
    "# Check that the model loads correctly\n",
    "#reconstructed_model.summary()"
   ]
  },
  {
   "cell_type": "code",
   "execution_count": 4,
   "metadata": {
    "scrolled": false
   },
   "outputs": [
    {
     "name": "stdout",
     "output_type": "stream",
     "text": [
      "Upload a single image of either a JMD $500 or JMD $1,000 bank note.\n",
      "\n",
      "After uploading, click on the Predict button.\n"
     ]
    },
    {
     "data": {
      "application/vnd.jupyter.widget-view+json": {
       "model_id": "8970b6a823224edabe320ae52fe7fe71",
       "version_major": 2,
       "version_minor": 0
      },
      "text/plain": [
       "FileUpload(value={}, accept='image/jpeg, image/png', description='Upload')"
      ]
     },
     "metadata": {},
     "output_type": "display_data"
    }
   ],
   "source": [
    "import ipywidgets as widgets\n",
    "from IPython.display import display, clear_output\n",
    "from PIL import Image\n",
    "\n",
    "# Create upload button\n",
    "uploader = widgets.FileUpload(\n",
    "    accept = 'image/jpeg, image/png',\n",
    "    multiple = False\n",
    ")\n",
    "\n",
    "# Save uploaded file to tmp folder on disk\n",
    "def on_file_upload(change):\n",
    "    uploaded_file = next(iter(uploader.value))\n",
    "    content = uploader.value[uploaded_file]['content']\n",
    "    with open('./tmp/' + uploaded_file, 'wb') as f: f.write(content)\n",
    "\n",
    "uploader.observe(on_file_upload, names='_counter')\n",
    "\n",
    "# Instructions\n",
    "print(\"Upload a single image of either a JMD $500 or JMD $1,000 bank note.\\n\")\n",
    "print(\"After uploading, click on the Predict button.\")\n",
    "\n",
    "# Display button\n",
    "display(uploader)"
   ]
  },
  {
   "cell_type": "code",
   "execution_count": 5,
   "metadata": {
    "scrolled": false
   },
   "outputs": [
    {
     "data": {
      "application/vnd.jupyter.widget-view+json": {
       "model_id": "326c8fbb5f21417691a4671c9b9de06d",
       "version_major": 2,
       "version_minor": 0
      },
      "text/plain": [
       "Button(button_style='success', description='Predict', style=ButtonStyle(), tooltip='Predict whether the upload…"
      ]
     },
     "metadata": {},
     "output_type": "display_data"
    },
    {
     "data": {
      "application/vnd.jupyter.widget-view+json": {
       "model_id": "b59afd683f74438ba13ab27d0283fe7f",
       "version_major": 2,
       "version_minor": 0
      },
      "text/plain": [
       "Output()"
      ]
     },
     "metadata": {},
     "output_type": "display_data"
    }
   ],
   "source": [
    "# Create predict button\n",
    "predict_btn = widgets.Button(\n",
    "    description = 'Predict',\n",
    "    disabled = False,\n",
    "    button_style = 'success',\n",
    "    tooltip = 'Predict whether the uploaded image is a JMD $500 or JMD $1000 bank note',\n",
    "    icon = ''\n",
    ")\n",
    "\n",
    "# Create output widget\n",
    "output = widgets.Output()\n",
    "\n",
    "# Function to get the filename of just uploaded file\n",
    "def get_filename():\n",
    "    if(uploader.data):\n",
    "        uploaded_file = next(iter(uploader.value))\n",
    "        filename = uploader.value[uploaded_file]['metadata']['name']\n",
    "        \n",
    "        return  cwd + '/tmp/' + filename\n",
    "    else:\n",
    "        return \"No image has been uploaded\"\n",
    "\n",
    "# Function to determine whether the uploaded note is a JMD $500 or a JMD $1,000\n",
    "def predict(uploaded_file):\n",
    "    uploaded_file = get_filename()\n",
    "    uploader.value.clear()\n",
    "    \n",
    "    with output:\n",
    "        clear_output()\n",
    "        \n",
    "        img = keras.preprocessing.image.load_img(uploaded_file, target_size = (img_height, img_width))\n",
    "        img_array = keras.preprocessing.image.img_to_array(img)\n",
    "        img_array = tf.expand_dims(img_array, 0)\n",
    "        predictions = reconstructed_model.predict(img_array)\n",
    "        \n",
    "        # Each prediction will be the output of the first class (jmd_500_bank note) being predicted\n",
    "        # Therefore, the probability of the other class being predicted 1 - prob_first_class\n",
    "        for i, predicted in enumerate(predictions):\n",
    "            # JMD #500\n",
    "            if predicted[0] > 0.50:\n",
    "                print(\n",
    "                    \"This image is a JMD $500 bank note. Prob: {}\"\n",
    "                    .format(predicted[0])\n",
    "                )\n",
    "            \n",
    "            # JMD #1000\n",
    "            elif predicted[0] <= 0.50 and predicted[0] > 0.000000005:\n",
    "                 print(\n",
    "                     \"This image is a JMD $1,000 bank note. Prob: {}\"\n",
    "                    .format(1 - predicted[0])\n",
    "                 )\n",
    "                    \n",
    "            # None of the two\n",
    "            else: print(\"Bank note not recognized. Prob: {}\"\n",
    "                    .format(predicted[0])\n",
    "                )\n",
    "\n",
    "# Listen for button click\n",
    "predict_btn.on_click(predict)\n",
    "\n",
    "# Display button\n",
    "display(predict_btn, output)"
   ]
  }
 ],
 "metadata": {
  "kernelspec": {
   "display_name": "Python 3",
   "language": "python",
   "name": "python3"
  },
  "language_info": {
   "codemirror_mode": {
    "name": "ipython",
    "version": 3
   },
   "file_extension": ".py",
   "mimetype": "text/x-python",
   "name": "python",
   "nbconvert_exporter": "python",
   "pygments_lexer": "ipython3",
   "version": "3.8.5"
  }
 },
 "nbformat": 4,
 "nbformat_minor": 2
}
